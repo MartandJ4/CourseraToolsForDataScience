{
 "cells": [
  {
   "cell_type": "markdown",
   "id": "26935100",
   "metadata": {},
   "source": [
    "# My notebook"
   ]
  },
  {
   "cell_type": "markdown",
   "id": "b9bbf05d",
   "metadata": {},
   "source": [
    "# Introduction to tools for data science\n"
   ]
  },
  {
   "cell_type": "markdown",
   "id": "a4fb87e8",
   "metadata": {},
   "source": [
    "# Data science languages are as follows:\n",
    " 1. Python\n",
    " 2. R\n",
    " 3. Julia\n",
    " 4. SQL\n",
    " 5. Scala\n",
    " 6. Javascript"
   ]
  },
  {
   "cell_type": "markdown",
   "id": "91b77076",
   "metadata": {},
   "source": [
    "# Data Science Libraries are as follows:\n",
    "1. Numpy\n",
    "2. SciKit learn\n",
    "3. Tensor Flow\n",
    "4. Scipy\n",
    "5. Pandas\n",
    "6. Seaborn\n",
    "7. MatplotLib\n",
    "8. Dplyr\n",
    "9. Shiny\n",
    "10. ggplot"
   ]
  },
  {
   "cell_type": "markdown",
   "id": "951503d8",
   "metadata": {},
   "source": [
    "# Table of data science tools\n",
    "1. Matplotlib\n",
    "2. DataMiner\n",
    "3. Knime\n",
    "4. TensorFLow\n",
    "5. ApacheSpark\n",
    "6. Matlab\n",
    "7. Weka\n",
    "8. Hadoop\n",
    "9. PyTorch\n",
    "10. Orange"
   ]
  },
  {
   "cell_type": "markdown",
   "id": "8687d8f7",
   "metadata": {},
   "source": [
    "# Introduction to arithmetic expressions examples:\n",
    "1.a=10\n",
    "\n",
    "2.b-12\n",
    "\n",
    "3.c=a+b\n",
    "\n",
    "4.d=b-a\n",
    "\n",
    "5.e=a*b\n",
    "\n",
    "6.f=b/a\n",
    "\n",
    "Then print d,e,f to get the answers to the arithmetic examples\n"
   ]
  },
  {
   "cell_type": "code",
   "execution_count": 1,
   "id": "08fceecd",
   "metadata": {},
   "outputs": [
    {
     "name": "stdout",
     "output_type": "stream",
     "text": [
      "Enter first number2\n",
      "Enter 2nd number34\n",
      "36\n",
      "68\n"
     ]
    }
   ],
   "source": [
    "a=int(input(\"Enter first number\"))\n",
    "b=int(input(\"Enter 2nd number\"))\n",
    "c=a+b\n",
    "d=a*b\n",
    "print(c)\n",
    "print(d)"
   ]
  },
  {
   "cell_type": "code",
   "execution_count": 3,
   "id": "335897df",
   "metadata": {},
   "outputs": [
    {
     "name": "stdout",
     "output_type": "stream",
     "text": [
      " Enter minutes to convert into hours20\n",
      "0.3333333333333333\n"
     ]
    }
   ],
   "source": [
    "minutes=int(input(\" Enter minutes to convert into hours\"))\n",
    "hours=minutes/60\n",
    "print(hours)"
   ]
  },
  {
   "cell_type": "markdown",
   "id": "2f23bf33",
   "metadata": {},
   "source": [
    "# Objectives of the course\n",
    "1. Learn different data science tools\n",
    "2. Utilize languages commonly used by data scientists\n",
    "3. Learn about libraries, packages, data sets\n",
    "4. Learn about tools such as Jupyter Notebooks, RStudio etc."
   ]
  },
  {
   "cell_type": "markdown",
   "id": "9972ca3e",
   "metadata": {},
   "source": [
    "# Author's name:\n",
    "Author of this notebook is Martand Joshi\n"
   ]
  }
 ],
 "metadata": {
  "kernelspec": {
   "display_name": "Python 3 (ipykernel)",
   "language": "python",
   "name": "python3"
  },
  "language_info": {
   "codemirror_mode": {
    "name": "ipython",
    "version": 3
   },
   "file_extension": ".py",
   "mimetype": "text/x-python",
   "name": "python",
   "nbconvert_exporter": "python",
   "pygments_lexer": "ipython3",
   "version": "3.9.12"
  }
 },
 "nbformat": 4,
 "nbformat_minor": 5
}
